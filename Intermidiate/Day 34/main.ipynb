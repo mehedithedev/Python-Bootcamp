{
 "cells": [
  {
   "metadata": {},
   "cell_type": "markdown",
   "source": "# Load the book",
   "id": "ec6d67e78a1e8c74"
  },
  {
   "cell_type": "code",
   "id": "initial_id",
   "metadata": {
    "collapsed": true,
    "ExecuteTime": {
     "end_time": "2024-07-19T21:04:05.444609Z",
     "start_time": "2024-07-19T21:04:05.431064Z"
    }
   },
   "source": [
    "with open(\"miracle_in_the_andes.txt\", \"r\", encoding=\"utf-8\") as file:\n",
    "    book = file.read()"
   ],
   "outputs": [],
   "execution_count": 17
  },
  {
   "metadata": {
    "ExecuteTime": {
     "end_time": "2024-07-19T21:04:05.529536Z",
     "start_time": "2024-07-19T21:04:05.517537Z"
    }
   },
   "cell_type": "code",
   "source": "type(book)",
   "id": "a9d7eac3c816790b",
   "outputs": [
    {
     "data": {
      "text/plain": [
       "str"
      ]
     },
     "execution_count": 18,
     "metadata": {},
     "output_type": "execute_result"
    }
   ],
   "execution_count": 18
  },
  {
   "metadata": {},
   "cell_type": "markdown",
   "source": "# How many chapters?",
   "id": "5697236940b4ea55"
  },
  {
   "metadata": {},
   "cell_type": "markdown",
   "source": "## With string methods",
   "id": "d83365810fa5bd83"
  },
  {
   "metadata": {
    "ExecuteTime": {
     "end_time": "2024-07-19T21:04:05.544109Z",
     "start_time": "2024-07-19T21:04:05.531543Z"
    }
   },
   "cell_type": "code",
   "source": "book.count(\"Chapter\")",
   "id": "ebf6fae3e363b97d",
   "outputs": [
    {
     "data": {
      "text/plain": [
       "11"
      ]
     },
     "execution_count": 19,
     "metadata": {},
     "output_type": "execute_result"
    }
   ],
   "execution_count": 19
  },
  {
   "metadata": {},
   "cell_type": "markdown",
   "source": "### With regex",
   "id": "e449f68cbd1a5659"
  },
  {
   "metadata": {
    "ExecuteTime": {
     "end_time": "2024-07-19T21:04:05.569612Z",
     "start_time": "2024-07-19T21:04:05.566199Z"
    }
   },
   "cell_type": "code",
   "source": "import re",
   "id": "c02e0b42d268d8aa",
   "outputs": [],
   "execution_count": 20
  },
  {
   "metadata": {
    "ExecuteTime": {
     "end_time": "2024-07-19T21:04:05.609934Z",
     "start_time": "2024-07-19T21:04:05.598425Z"
    }
   },
   "cell_type": "code",
   "source": [
    "pattern = re.compile(\"Chapter [0-9]+\")\n",
    "pattern"
   ],
   "id": "992fd95e1ccdeef",
   "outputs": [
    {
     "data": {
      "text/plain": [
       "re.compile(r'Chapter [0-9]+', re.UNICODE)"
      ]
     },
     "execution_count": 21,
     "metadata": {},
     "output_type": "execute_result"
    }
   ],
   "execution_count": 21
  },
  {
   "metadata": {
    "ExecuteTime": {
     "end_time": "2024-07-19T21:04:05.639974Z",
     "start_time": "2024-07-19T21:04:05.633299Z"
    }
   },
   "cell_type": "code",
   "source": "findings = re.findall(pattern, book)",
   "id": "5310e5f29b66335f",
   "outputs": [],
   "execution_count": 22
  },
  {
   "metadata": {
    "ExecuteTime": {
     "end_time": "2024-07-19T21:04:05.683230Z",
     "start_time": "2024-07-19T21:04:05.676114Z"
    }
   },
   "cell_type": "code",
   "source": "len(findings)",
   "id": "b0924b3cea7bf633",
   "outputs": [
    {
     "data": {
      "text/plain": [
       "10"
      ]
     },
     "execution_count": 23,
     "metadata": {},
     "output_type": "execute_result"
    }
   ],
   "execution_count": 23
  },
  {
   "metadata": {},
   "cell_type": "markdown",
   "source": "# Which are the sentences where \"love\" was used?",
   "id": "b96707e27e4376a0"
  },
  {
   "metadata": {
    "ExecuteTime": {
     "end_time": "2024-07-19T21:04:07.308811Z",
     "start_time": "2024-07-19T21:04:05.699336Z"
    }
   },
   "cell_type": "code",
   "source": [
    "pattern = re.compile(\"[^.]{1}[^.]*[^a-zA-z]+love[^a-zA-z]+[^.]*.\")\n",
    "findings = re.findall(pattern, book)\n",
    "findings"
   ],
   "id": "9ecc740d45d2109c",
   "outputs": [
    {
     "data": {
      "text/plain": [
       "[' As a young man, of course, I could not put these things into words, but I knew, and my teammates knew, that there was something special about the game, and under the guidance of the Christian Brothers we developed a passionate love for the sport that shaped our friendships and our lives.',\n",
       " ' Guido and I grew up together, playing soccer and sharing a love of motorcycles, cars, and auto racing.',\n",
       " ' Under the guidance of the Christian Brothers, both of us grew to love the game of rugby with a consuming passion.',\n",
       " ' That rowdiness came to an abrupt end for Guido in 1969, when he met and fell in love with the beautiful daughter of a Chilean diplomat.',\n",
       " ' I believe he had a great hunger for the love and comforts of a family that was happy and whole.',\n",
       " ' He shared, with my father and me, a love for cars and driving, and he loved going with us to auto races.',\n",
       " ' The house had a beautiful view of the sea, and this more than anything made my mother love it.',\n",
       " ' She was a true tower of strength, but her strength was always based in warmth and love and because of her love and protection I grew up believing the world was a safe, familiar place.',\n",
       " ' He had given us a life of comfort and privilege such as his own father never could have imagined, he had provided for us and protected us in the best way he could, and though he was not an emotionally expressive man, he always showed his love for us subtly, quietly, and in ways that were true to the man he was.',\n",
       " ' Out of love for his family he had arranged in his mind a future that would keep us all safe, happy, and always together.',\n",
       " ' Susy shared my mother’s love for the closeness of family, but she was no stay-at-home girl.',\n",
       " ' When she was sixteen she spent a year as an exchange student living with a family in Florida, an experience that taught her to love the U.',\n",
       " ' Take care of the people you love. The words inspired nothing in me but a black sense of loss.',\n",
       " ' As I lay beside her, the sweetness of my love for her, for my lost friends and my family, for the suddenly fragile notion of my own life and future, swelled in my heart with an ache so profound it sapped all my strength, and for a moment I thought I would pass out.',\n",
       " ' I pressed my cheek against hers so I could feel her warm breath on my face, and held her that way all night, gently, but very close, never letting go, embracing her as if I were embracing all the love and peace and joy I had ever known and would ever know; as if by holding on tight I could keep everything precious from slipping away.',\n",
       " ' I felt my love for my father tugging at me like a lifeline, drawing me toward those barren slopes.',\n",
       " '\\n\\nIn the days after Susy died, my love for my father was the only thing that kept me sane, and time after time I would calm myself by reaffirming the promise I had made at Susy’s grave: to return to him; to show him I had survived and to ease his suffering a little.',\n",
       " '\\n\\nThinking of my father this way always triggered in me a burst of love so radiant and urgent that it took my breath away.',\n",
       " ' I don’t pray to God for forgiveness or favors, I only pray to be closer to Him, and when I pray, I fill my heart with love. When I pray this way, I know that God is love.',\n",
       " ' When I feel that love, I remember that we don’t need angels or a heaven, because we are a part of God already.',\n",
       " ' Bobby, are you warm enough? Do you want me to rub your feet?” She worried constantly about the children she had left at home, but still she had the courage and love to mother these frightened boys who were so far from their families.',\n",
       " ' It was our job to follow His commandments, to take the sacraments, to love God and to love others as Jesus had taught us.',\n",
       " ' I would think of him and let my heart fill with love for him, and this love would be stronger than my suffering, or my fear.',\n",
       " ' After two weeks on the mountain, my love for my father had taken on the irresistible power of a biological drive.',\n",
       " ' “All we can do is love God and love others and trust in God’s will.',\n",
       " ' I can feel His love, Nando.',\n",
       " ' There’s so much love, I want to cry.',\n",
       " ' Even if we are trapped here forever, we can love our families, and God, and each other as long as we live.',\n",
       " '\\n\\n“You will tell my family that I love them, won’t you? That’s all that matters to me now.',\n",
       " ' But he lived so many lifetimes, had so many adventures, and, macho, he made love to so many beautiful girls.',\n",
       " ' The shoes were magical for me because my mother had chosen them with such love for her grandson, and had handled them so tenderly on the plane.',\n",
       " ' My love for my father swelled in my heart, and I realized that, despite the hopelessness of my situation, the memory of him filled me with joy.',\n",
       " ' They could not crush my ability to love. I felt a moment of calmness and clarity, and in that clarity of mind I discovered a simple, astounding secret: Death has an opposite, but the opposite is not mere living.',\n",
       " ' The opposite of death is love. How had I missed that? How does anyone miss that? Love is our only weapon.',\n",
       " ' Only love can turn mere life into a miracle, and draw precious meaning from suffering and fear.',\n",
       " ' I would walk through the godforsaken country that separated me from my home with love and hope in my heart.',\n",
       " ' I’ve never been in love.”\\n\\n“Really?” he laughed.',\n",
       " ' But still, still, I longed for the very things I knew I would never have—the love of a wife, a family of my own, a reunion with my grandmother and older sister, and always the embrace of my father.',\n",
       " ' My ordeal had simplified my mind and whittled me down very close to the essence of what I was, and now I saw that this longing, this love and affection for the very idea of my life, was a deeper part of me than hopelessness or fear or pain or hunger.',\n",
       " ' In seconds she was in my arms, and my heart swelled with love as I held her.',\n",
       " '”\\n\\nThere was so much I wanted to tell him, that I had thought of him every moment, that his love had been the guiding light that led me to safety.',\n",
       " ' The papers called our return “The Christmas Miracle,” and many people were regarding us as almost mystical figures: young boys who had been saved by the direct intercession of God, living proof of His love. News of our survival was making headlines around the globe, and public interest was intense.',\n",
       " ' Where should I begin? “I love it,” I said, finally.',\n",
       " ' I tried to be on my best behavior, but already I was madly in love, and it required all my effort to take my eyes off Veronique, and to remind myself there was anyone else in the room.',\n",
       " ' She stepped off the train with only a backpack and a small duffel, looking very beautiful, and I fell in love with her all over again.',\n",
       " ' Until then, I had thought I could never love anything as much as I loved my wife, but when I gazed into my baby’s face, I was struck senseless by my love for her.',\n",
       " ' I felt a sudden, staggering sense of gratitude for the rich joys of my life—I had been given so much love and happiness—and I realized that every grueling step I had taken through that godforsaken wilderness was a step toward the tiny, precious miracle I held in my arms.',\n",
       " ' We are bonded by our suffering and our losses, but also by a great sense of mutual respect and, of course, a deep, unquestioned love. I don’t know if my father has ever understood how important he was to me when I was lost.',\n",
       " ' Mostly, he saved me with his love. He was never an openly affectionate man, but I never doubted his love when I was a boy.',\n",
       " ' It was quiet love, but solid and deep and enduring.',\n",
       " ' When I was in the mountains, stranded in the shadows of death, that love was like a safety line anchored in the world of the living.',\n",
       " ' As long as I held on to that love, I was not lost, I was connected to my home and to my future, and in the end it was that strong cord of love that led me out of danger.',\n",
       " ' He saved me simply by being the father I love.\\n\\n\\nWHEN MY FELLOW survivors and I first returned from the mountains, our parents and teachers, worried that we’d been scarred by the horrors we’d faced, asked us to visit a therapist.',\n",
       " ' There was love, the love in my heart, and for one incredible moment, as I felt this love swell—love for my father, for my future, for the simple wonder of being alive—death lost its power.',\n",
       " ' Instead, I made every step a step toward love, and that saved me.',\n",
       " ' I have never stopped moving toward love. Life has blessed me with material success.',\n",
       " ' I love to travel.',\n",
       " ' I believe life should be enjoyed, but my experiences have taught me that without the love of my family and my friends, all the trappings of worldly success would ring hollow.',\n",
       " ' I also know that I would be a happy man if all those trappings were taken from me, as long as I am close to the people I love.\\n\\nI expect most people would like to think of themselves this way, but I know that if I had not suffered as I did, and had not been forced to stare death in the face, I would not treasure the simple, precious pleasures of my life as richly as I do.',\n",
       " ' I savor them and let each one become a miniature eternity, and by living these small moments of my life so fully, I defy the shadow of death that hovers over all of us, I reaffirm my love and gratitude for all the gifts I’ve been given, and I fill myself more and more deeply with life.',\n",
       " ' It seemed to reach me through my own feelings of love, and I have often thought that when we feel what we call love, we are really feeling our connection to this awesome presence.',\n",
       " ' Instead, I imagine love, an ocean of love, the very source of love, and I imagine myself merging with it.',\n",
       " ' I open myself to it, I try to direct that tide of love toward the people who are close to me, hoping to protect them and bind them to me forever and connect us all to whatever there is in the world that is eternal.',\n",
       " ' In the mountains, it was love that kept me connected to the world of the living.',\n",
       " ' I had no expertise to draw on, so I relied upon the trust I felt in my love for my father and my future, and that trust led me home.',\n",
       " ' Now I am convinced that if there is something divine in the universe, the only way I will find it is through the love I feel for my family and my friends, and through the simple wonder of being alive.',\n",
       " ' I don’t need any other wisdom or philosophy than this: My duty is to fill my time on earth with as much life as possible, to become a little more human every day, and to understand that we only become human when we love. I have tried to love my friends with a loyal and generous heart.']"
      ]
     },
     "execution_count": 24,
     "metadata": {},
     "output_type": "execute_result"
    }
   ],
   "execution_count": 24
  },
  {
   "metadata": {
    "ExecuteTime": {
     "end_time": "2024-07-19T21:04:07.322881Z",
     "start_time": "2024-07-19T21:04:07.311824Z"
    }
   },
   "cell_type": "code",
   "source": "len(findings)",
   "id": "dc8674e5e09540af",
   "outputs": [
    {
     "data": {
      "text/plain": [
       "67"
      ]
     },
     "execution_count": 25,
     "metadata": {},
     "output_type": "execute_result"
    }
   ],
   "execution_count": 25
  },
  {
   "metadata": {},
   "cell_type": "markdown",
   "source": "What are the most used words?",
   "id": "6e1ecda927e37df1"
  },
  {
   "metadata": {
    "ExecuteTime": {
     "end_time": "2024-07-19T21:04:07.332957Z",
     "start_time": "2024-07-19T21:04:07.328448Z"
    }
   },
   "cell_type": "code",
   "source": "",
   "id": "a7857225835ac037",
   "outputs": [],
   "execution_count": 25
  },
  {
   "metadata": {
    "ExecuteTime": {
     "end_time": "2024-07-19T21:07:09.150793Z",
     "start_time": "2024-07-19T21:07:09.018648Z"
    }
   },
   "cell_type": "code",
   "source": [
    "pattern = re.compile(r\"\\b[a-zA-z]+\\b\")\n",
    "findings = re.findall(pattern, book.lower())\n",
    "findings[:5]"
   ],
   "id": "bfb1010c7c9027ae",
   "outputs": [
    {
     "data": {
      "text/plain": [
       "['chapter', 'before', 'it', 'was', 'friday']"
      ]
     },
     "execution_count": 29,
     "metadata": {},
     "output_type": "execute_result"
    }
   ],
   "execution_count": 29
  },
  {
   "metadata": {
    "ExecuteTime": {
     "end_time": "2024-07-19T21:04:07.597567Z",
     "start_time": "2024-07-19T21:04:07.591944Z"
    }
   },
   "cell_type": "code",
   "source": [
    "d = {}\n",
    "for word in findings:\n",
    "    d[word] = d[word] + 1"
   ],
   "id": "a50e37d5c7610df8",
   "outputs": [],
   "execution_count": 26
  }
 ],
 "metadata": {
  "kernelspec": {
   "display_name": "Python 3",
   "language": "python",
   "name": "python3"
  },
  "language_info": {
   "codemirror_mode": {
    "name": "ipython",
    "version": 2
   },
   "file_extension": ".py",
   "mimetype": "text/x-python",
   "name": "python",
   "nbconvert_exporter": "python",
   "pygments_lexer": "ipython2",
   "version": "2.7.6"
  }
 },
 "nbformat": 4,
 "nbformat_minor": 5
}
